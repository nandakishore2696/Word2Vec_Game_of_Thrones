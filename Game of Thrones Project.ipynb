{
 "cells": [
  {
   "cell_type": "code",
   "execution_count": 1,
   "metadata": {},
   "outputs": [],
   "source": [
    "import gensim\n",
    "import os"
   ]
  },
  {
   "cell_type": "code",
   "execution_count": 2,
   "metadata": {},
   "outputs": [
    {
     "data": {
      "text/plain": [
       "['001ssb.txt', '002ssb.txt', '003ssb.txt', '004ssb.txt', '005ssb.txt']"
      ]
     },
     "execution_count": 2,
     "metadata": {},
     "output_type": "execute_result"
    }
   ],
   "source": [
    "os.listdir('GOT')"
   ]
  },
  {
   "cell_type": "code",
   "execution_count": 7,
   "metadata": {},
   "outputs": [],
   "source": [
    "f = open(os.path.join('GOT', '001ssb.txt'))"
   ]
  },
  {
   "cell_type": "code",
   "execution_count": 3,
   "metadata": {},
   "outputs": [],
   "source": [
    "from nltk.tokenize import sent_tokenize"
   ]
  },
  {
   "cell_type": "code",
   "execution_count": 11,
   "metadata": {},
   "outputs": [],
   "source": [
    "import re\n",
    "from nltk.corpus import stopwords\n",
    "from nltk import word_tokenize\n",
    "stopwords_eng = stopwords.words('english')\n",
    "def preprocess(text):\n",
    "    text = text.lower()\n",
    "    text = re.sub('[^A-Z]', ' ', str(text), flags=re.IGNORECASE)\n",
    "    text = word_tokenize(text)\n",
    "    text = [word for word in text if word not in stopwords_eng]\n",
    "    return text"
   ]
  },
  {
   "cell_type": "code",
   "execution_count": 12,
   "metadata": {},
   "outputs": [],
   "source": [
    "from nltk import sent_tokenize\n",
    "from gensim.utils import simple_preprocess\n",
    "\n",
    "story = []\n",
    "for filename in os.listdir('GOT'):\n",
    "    f = open(os.path.join('GOT',filename),encoding='latin-1')\n",
    "    corpus = f.read()\n",
    "    raw_sent = sent_tokenize(corpus)\n",
    "    for sent in raw_sent:\n",
    "        story.append(preprocess(sent))\n"
   ]
  },
  {
   "cell_type": "code",
   "execution_count": 20,
   "metadata": {},
   "outputs": [
    {
     "data": {
      "text/plain": [
       "['game',\n",
       " 'thrones',\n",
       " 'book',\n",
       " 'one',\n",
       " 'song',\n",
       " 'ice',\n",
       " 'fire',\n",
       " 'george',\n",
       " 'r',\n",
       " 'r',\n",
       " 'martin',\n",
       " 'prologue',\n",
       " 'start',\n",
       " 'back',\n",
       " 'gared',\n",
       " 'urged',\n",
       " 'woods',\n",
       " 'began',\n",
       " 'grow',\n",
       " 'dark',\n",
       " 'around']"
      ]
     },
     "execution_count": 20,
     "metadata": {},
     "output_type": "execute_result"
    }
   ],
   "source": [
    "story[0]"
   ]
  },
  {
   "cell_type": "code",
   "execution_count": 13,
   "metadata": {},
   "outputs": [
    {
     "data": {
      "text/plain": [
       "141218"
      ]
     },
     "execution_count": 13,
     "metadata": {},
     "output_type": "execute_result"
    }
   ],
   "source": [
    "len(story)"
   ]
  },
  {
   "cell_type": "code",
   "execution_count": 14,
   "metadata": {},
   "outputs": [],
   "source": [
    "model = gensim.models.Word2Vec(window = 10, min_count =2)"
   ]
  },
  {
   "cell_type": "code",
   "execution_count": 15,
   "metadata": {},
   "outputs": [],
   "source": [
    "model.build_vocab(story)"
   ]
  },
  {
   "cell_type": "code",
   "execution_count": 16,
   "metadata": {},
   "outputs": [
    {
     "data": {
      "text/plain": [
       "(4396035, 4578945)"
      ]
     },
     "execution_count": 16,
     "metadata": {},
     "output_type": "execute_result"
    }
   ],
   "source": [
    "model.train(story, total_examples=model.corpus_count, epochs= model.epochs)"
   ]
  },
  {
   "cell_type": "code",
   "execution_count": 17,
   "metadata": {},
   "outputs": [
    {
     "data": {
      "text/plain": [
       "[('stormborn', 0.9107531905174255),\n",
       " ('unburnt', 0.8920230269432068),\n",
       " ('viserys', 0.8328540921211243),\n",
       " ('myrcella', 0.8256495594978333),\n",
       " ('regent', 0.817543089389801),\n",
       " ('queen', 0.8137426376342773),\n",
       " ('court', 0.8094379901885986),\n",
       " ('kith', 0.8048383593559265),\n",
       " ('elia', 0.8041918873786926),\n",
       " ('repent', 0.8030271530151367)]"
      ]
     },
     "execution_count": 17,
     "metadata": {},
     "output_type": "execute_result"
    }
   ],
   "source": [
    "model.wv.most_similar('daenerys')"
   ]
  },
  {
   "cell_type": "code",
   "execution_count": 18,
   "metadata": {},
   "outputs": [
    {
     "data": {
      "text/plain": [
       "array([-0.13394418,  0.34191105, -0.02853699,  0.60229254, -0.5899452 ,\n",
       "        0.02248017,  0.573111  ,  0.7049233 , -0.24334218, -0.36167008,\n",
       "        0.27410287, -0.16145433,  0.2107255 , -0.19342284,  0.22843736,\n",
       "       -0.1864429 , -0.08388699, -0.147358  ,  0.2349022 , -0.25088894,\n",
       "       -1.0632873 ,  0.5012073 ,  0.07237697, -0.90028274,  0.36868545,\n",
       "        0.08536708,  0.04327318, -0.5134943 , -0.40208447, -0.16676697,\n",
       "        0.04176967,  0.66268593, -0.26114982, -0.5719135 ,  0.4692471 ,\n",
       "        0.7800791 , -0.38507012, -0.3509766 , -0.40884942, -0.45378774,\n",
       "        0.21369083, -0.14954768, -1.0889045 ,  0.07253112,  0.01216711,\n",
       "       -0.89170545, -0.82292145,  0.03095017,  1.0901365 , -0.7810476 ,\n",
       "       -0.36662582,  0.33167642,  0.35236436, -0.6333002 ,  0.3174388 ,\n",
       "        0.5132654 ,  0.283004  , -0.07482891,  0.18739332,  0.2679203 ,\n",
       "        0.62613803,  0.8864995 , -0.4281217 ,  0.12988982, -0.8620012 ,\n",
       "        0.06844719, -0.36612144, -0.24013828, -0.5097622 ,  0.60200024,\n",
       "        0.32826555, -0.44946307,  0.19860488, -0.0656684 ,  0.10430697,\n",
       "        1.1275504 ,  0.5525321 , -0.39253545, -0.9345075 , -0.45684722,\n",
       "       -0.6630654 ,  0.58457494, -0.67039174,  0.55007344, -0.24338123,\n",
       "       -0.19958213,  0.06237099,  0.13707082,  0.99865717,  0.16676407,\n",
       "        0.4730085 , -0.39788985, -0.55835897, -0.00600761,  0.4990966 ,\n",
       "        0.47769603, -0.8750836 , -1.2678386 ,  0.33021092, -0.3564528 ],\n",
       "      dtype=float32)"
      ]
     },
     "execution_count": 18,
     "metadata": {},
     "output_type": "execute_result"
    }
   ],
   "source": [
    "model.wv['daenerys']"
   ]
  },
  {
   "cell_type": "code",
   "execution_count": 19,
   "metadata": {},
   "outputs": [
    {
     "data": {
      "text/plain": [
       "'jon'"
      ]
     },
     "execution_count": 19,
     "metadata": {},
     "output_type": "execute_result"
    }
   ],
   "source": [
    "model.wv.doesnt_match(['jon','rikon','robb','arya','sansa','bran'])"
   ]
  },
  {
   "cell_type": "code",
   "execution_count": 21,
   "metadata": {},
   "outputs": [
    {
     "data": {
      "text/plain": [
       "0.6492905"
      ]
     },
     "execution_count": 21,
     "metadata": {},
     "output_type": "execute_result"
    }
   ],
   "source": [
    "model.wv.similarity('cersei','sansa')"
   ]
  },
  {
   "cell_type": "code",
   "execution_count": 22,
   "metadata": {},
   "outputs": [
    {
     "data": {
      "text/plain": [
       "0.80052686"
      ]
     },
     "execution_count": 22,
     "metadata": {},
     "output_type": "execute_result"
    }
   ],
   "source": [
    "model.wv.similarity('arya','sansa')"
   ]
  },
  {
   "cell_type": "code",
   "execution_count": 23,
   "metadata": {},
   "outputs": [
    {
     "data": {
      "text/plain": [
       "0.28455177"
      ]
     },
     "execution_count": 23,
     "metadata": {},
     "output_type": "execute_result"
    }
   ],
   "source": [
    "model.wv.similarity('tywin','sansa')"
   ]
  },
  {
   "cell_type": "code",
   "execution_count": 25,
   "metadata": {},
   "outputs": [
    {
     "data": {
      "text/plain": [
       "(17330, 100)"
      ]
     },
     "execution_count": 25,
     "metadata": {},
     "output_type": "execute_result"
    }
   ],
   "source": [
    "model.wv.get_normed_vectors().shape"
   ]
  },
  {
   "cell_type": "code",
   "execution_count": 27,
   "metadata": {},
   "outputs": [
    {
     "data": {
      "text/plain": [
       "17330"
      ]
     },
     "execution_count": 27,
     "metadata": {},
     "output_type": "execute_result"
    }
   ],
   "source": [
    "len(model.wv.index_to_key)"
   ]
  },
  {
   "cell_type": "code",
   "execution_count": 28,
   "metadata": {},
   "outputs": [],
   "source": [
    "y = model.wv.index_to_key"
   ]
  },
  {
   "cell_type": "code",
   "execution_count": 29,
   "metadata": {},
   "outputs": [
    {
     "data": {
      "application/vnd.plotly.v1+json": {
       "config": {
        "plotlyServerURL": "https://plot.ly"
       },
       "data": [
        {
         "hovertemplate": "color=died<br>0=%{x}<br>1=%{y}<br>2=%{z}<extra></extra>",
         "legendgroup": "died",
         "marker": {
          "color": "#636efa",
          "symbol": "circle"
         },
         "mode": "markers",
         "name": "died",
         "scene": "scene",
         "showlegend": true,
         "type": "scatter3d",
         "x": [
          -0.3682309
         ],
         "y": [
          0.5667422
         ],
         "z": [
          0.041415494
         ]
        },
        {
         "hovertemplate": "color=north<br>0=%{x}<br>1=%{y}<br>2=%{z}<extra></extra>",
         "legendgroup": "north",
         "marker": {
          "color": "#EF553B",
          "symbol": "circle"
         },
         "mode": "markers",
         "name": "north",
         "scene": "scene",
         "showlegend": true,
         "type": "scatter3d",
         "x": [
          -0.12186693
         ],
         "y": [
          0.6290131
         ],
         "z": [
          0.3806447
         ]
        },
        {
         "hovertemplate": "color=child<br>0=%{x}<br>1=%{y}<br>2=%{z}<extra></extra>",
         "legendgroup": "child",
         "marker": {
          "color": "#00cc96",
          "symbol": "circle"
         },
         "mode": "markers",
         "name": "child",
         "scene": "scene",
         "showlegend": true,
         "type": "scatter3d",
         "x": [
          -0.54762393
         ],
         "y": [
          -0.10217537
         ],
         "z": [
          -0.09659977
         ]
        },
        {
         "hovertemplate": "color=fear<br>0=%{x}<br>1=%{y}<br>2=%{z}<extra></extra>",
         "legendgroup": "fear",
         "marker": {
          "color": "#ab63fa",
          "symbol": "circle"
         },
         "mode": "markers",
         "name": "fear",
         "scene": "scene",
         "showlegend": true,
         "type": "scatter3d",
         "x": [
          -0.34299222
         ],
         "y": [
          -0.47662032
         ],
         "z": [
          0.27119038
         ]
        },
        {
         "hovertemplate": "color=along<br>0=%{x}<br>1=%{y}<br>2=%{z}<extra></extra>",
         "legendgroup": "along",
         "marker": {
          "color": "#FFA15A",
          "symbol": "circle"
         },
         "mode": "markers",
         "name": "along",
         "scene": "scene",
         "showlegend": true,
         "type": "scatter3d",
         "x": [
          0.5124221
         ],
         "y": [
          0.4929763
         ],
         "z": [
          0.43742117
         ]
        },
        {
         "hovertemplate": "color=word<br>0=%{x}<br>1=%{y}<br>2=%{z}<extra></extra>",
         "legendgroup": "word",
         "marker": {
          "color": "#19d3f3",
          "symbol": "circle"
         },
         "mode": "markers",
         "name": "word",
         "scene": "scene",
         "showlegend": true,
         "type": "scatter3d",
         "x": [
          -0.60605806
         ],
         "y": [
          -0.017848711
         ],
         "z": [
          0.015123834
         ]
        },
        {
         "hovertemplate": "color=brienne<br>0=%{x}<br>1=%{y}<br>2=%{z}<extra></extra>",
         "legendgroup": "brienne",
         "marker": {
          "color": "#FF6692",
          "symbol": "circle"
         },
         "mode": "markers",
         "name": "brienne",
         "scene": "scene",
         "showlegend": true,
         "type": "scatter3d",
         "x": [
          0.033027727
         ],
         "y": [
          -0.26417845
         ],
         "z": [
          -0.21345171
         ]
        },
        {
         "hovertemplate": "color=taken<br>0=%{x}<br>1=%{y}<br>2=%{z}<extra></extra>",
         "legendgroup": "taken",
         "marker": {
          "color": "#B6E880",
          "symbol": "circle"
         },
         "mode": "markers",
         "name": "taken",
         "scene": "scene",
         "showlegend": true,
         "type": "scatter3d",
         "x": [
          -0.41842452
         ],
         "y": [
          0.5796921
         ],
         "z": [
          0.14384882
         ]
        },
        {
         "hovertemplate": "color=battle<br>0=%{x}<br>1=%{y}<br>2=%{z}<extra></extra>",
         "legendgroup": "battle",
         "marker": {
          "color": "#FF97FF",
          "symbol": "circle"
         },
         "mode": "markers",
         "name": "battle",
         "scene": "scene",
         "showlegend": true,
         "type": "scatter3d",
         "x": [
          -0.37236717
         ],
         "y": [
          0.6482571
         ],
         "z": [
          0.2583199
         ]
        },
        {
         "hovertemplate": "color=help<br>0=%{x}<br>1=%{y}<br>2=%{z}<extra></extra>",
         "legendgroup": "help",
         "marker": {
          "color": "#FECB52",
          "symbol": "circle"
         },
         "mode": "markers",
         "name": "help",
         "scene": "scene",
         "showlegend": true,
         "type": "scatter3d",
         "x": [
          -0.54336846
         ],
         "y": [
          -0.2160789
         ],
         "z": [
          0.13837667
         ]
        },
        {
         "hovertemplate": "color=new<br>0=%{x}<br>1=%{y}<br>2=%{z}<extra></extra>",
         "legendgroup": "new",
         "marker": {
          "color": "#636efa",
          "symbol": "circle"
         },
         "mode": "markers",
         "name": "new",
         "scene": "scene",
         "showlegend": true,
         "type": "scatter3d",
         "x": [
          -0.32537782
         ],
         "y": [
          0.62402815
         ],
         "z": [
          0.19237268
         ]
        },
        {
         "hovertemplate": "color=tywin<br>0=%{x}<br>1=%{y}<br>2=%{z}<extra></extra>",
         "legendgroup": "tywin",
         "marker": {
          "color": "#EF553B",
          "symbol": "circle"
         },
         "mode": "markers",
         "name": "tywin",
         "scene": "scene",
         "showlegend": true,
         "type": "scatter3d",
         "x": [
          -0.41927916
         ],
         "y": [
          0.3203113
         ],
         "z": [
          -0.23534533
         ]
        },
        {
         "hovertemplate": "color=davos<br>0=%{x}<br>1=%{y}<br>2=%{z}<extra></extra>",
         "legendgroup": "davos",
         "marker": {
          "color": "#00cc96",
          "symbol": "circle"
         },
         "mode": "markers",
         "name": "davos",
         "scene": "scene",
         "showlegend": true,
         "type": "scatter3d",
         "x": [
          -0.11939576
         ],
         "y": [
          -0.06969018
         ],
         "z": [
          -0.14432338
         ]
        },
        {
         "hovertemplate": "color=lords<br>0=%{x}<br>1=%{y}<br>2=%{z}<extra></extra>",
         "legendgroup": "lords",
         "marker": {
          "color": "#ab63fa",
          "symbol": "circle"
         },
         "mode": "markers",
         "name": "lords",
         "scene": "scene",
         "showlegend": true,
         "type": "scatter3d",
         "x": [
          -0.46721682
         ],
         "y": [
          0.7986177
         ],
         "z": [
          0.13570356
         ]
        },
        {
         "hovertemplate": "color=something<br>0=%{x}<br>1=%{y}<br>2=%{z}<extra></extra>",
         "legendgroup": "something",
         "marker": {
          "color": "#FFA15A",
          "symbol": "circle"
         },
         "mode": "markers",
         "name": "something",
         "scene": "scene",
         "showlegend": true,
         "type": "scatter3d",
         "x": [
          -0.05063762
         ],
         "y": [
          -0.68267804
         ],
         "z": [
          0.008804118
         ]
        },
        {
         "hovertemplate": "color=wife<br>0=%{x}<br>1=%{y}<br>2=%{z}<extra></extra>",
         "legendgroup": "wife",
         "marker": {
          "color": "#19d3f3",
          "symbol": "circle"
         },
         "mode": "markers",
         "name": "wife",
         "scene": "scene",
         "showlegend": true,
         "type": "scatter3d",
         "x": [
          -0.6083652
         ],
         "y": [
          0.4872856
         ],
         "z": [
          -0.25081688
         ]
        },
        {
         "hovertemplate": "color=mean<br>0=%{x}<br>1=%{y}<br>2=%{z}<extra></extra>",
         "legendgroup": "mean",
         "marker": {
          "color": "#FF6692",
          "symbol": "circle"
         },
         "mode": "markers",
         "name": "mean",
         "scene": "scene",
         "showlegend": true,
         "type": "scatter3d",
         "x": [
          -0.7560448
         ],
         "y": [
          0.010154265
         ],
         "z": [
          0.18116093
         ]
        },
        {
         "hovertemplate": "color=rest<br>0=%{x}<br>1=%{y}<br>2=%{z}<extra></extra>",
         "legendgroup": "rest",
         "marker": {
          "color": "#B6E880",
          "symbol": "circle"
         },
         "mode": "markers",
         "name": "rest",
         "scene": "scene",
         "showlegend": true,
         "type": "scatter3d",
         "x": [
          -0.24582456
         ],
         "y": [
          0.18029718
         ],
         "z": [
          0.44803518
         ]
        },
        {
         "hovertemplate": "color=hall<br>0=%{x}<br>1=%{y}<br>2=%{z}<extra></extra>",
         "legendgroup": "hall",
         "marker": {
          "color": "#FF97FF",
          "symbol": "circle"
         },
         "mode": "markers",
         "name": "hall",
         "scene": "scene",
         "showlegend": true,
         "type": "scatter3d",
         "x": [
          0.3391196
         ],
         "y": [
          0.5640226
         ],
         "z": [
          0.15995485
         ]
        },
        {
         "hovertemplate": "color=kill<br>0=%{x}<br>1=%{y}<br>2=%{z}<extra></extra>",
         "legendgroup": "kill",
         "marker": {
          "color": "#FECB52",
          "symbol": "circle"
         },
         "mode": "markers",
         "name": "kill",
         "scene": "scene",
         "showlegend": true,
         "type": "scatter3d",
         "x": [
          -0.61109406
         ],
         "y": [
          -0.237153
         ],
         "z": [
          0.11723946
         ]
        },
        {
         "hovertemplate": "color=strong<br>0=%{x}<br>1=%{y}<br>2=%{z}<extra></extra>",
         "legendgroup": "strong",
         "marker": {
          "color": "#636efa",
          "symbol": "circle"
         },
         "mode": "markers",
         "name": "strong",
         "scene": "scene",
         "showlegend": true,
         "type": "scatter3d",
         "x": [
          -0.19036856
         ],
         "y": [
          0.026135854
         ],
         "z": [
          0.15102151
         ]
        },
        {
         "hovertemplate": "color=steel<br>0=%{x}<br>1=%{y}<br>2=%{z}<extra></extra>",
         "legendgroup": "steel",
         "marker": {
          "color": "#EF553B",
          "symbol": "circle"
         },
         "mode": "markers",
         "name": "steel",
         "scene": "scene",
         "showlegend": true,
         "type": "scatter3d",
         "x": [
          0.6653396
         ],
         "y": [
          0.1610577
         ],
         "z": [
          -0.047238164
         ]
        },
        {
         "hovertemplate": "color=began<br>0=%{x}<br>1=%{y}<br>2=%{z}<extra></extra>",
         "legendgroup": "began",
         "marker": {
          "color": "#00cc96",
          "symbol": "circle"
         },
         "mode": "markers",
         "name": "began",
         "scene": "scene",
         "showlegend": true,
         "type": "scatter3d",
         "x": [
          0.4869648
         ],
         "y": [
          -0.19223335
         ],
         "z": [
          0.19145441
         ]
        },
        {
         "hovertemplate": "color=sound<br>0=%{x}<br>1=%{y}<br>2=%{z}<extra></extra>",
         "legendgroup": "sound",
         "marker": {
          "color": "#ab63fa",
          "symbol": "circle"
         },
         "mode": "markers",
         "name": "sound",
         "scene": "scene",
         "showlegend": true,
         "type": "scatter3d",
         "x": [
          0.47047117
         ],
         "y": [
          -0.3321632
         ],
         "z": [
          0.21396236
         ]
        },
        {
         "hovertemplate": "color=dragon<br>0=%{x}<br>1=%{y}<br>2=%{z}<extra></extra>",
         "legendgroup": "dragon",
         "marker": {
          "color": "#FFA15A",
          "symbol": "circle"
         },
         "mode": "markers",
         "name": "dragon",
         "scene": "scene",
         "showlegend": true,
         "type": "scatter3d",
         "x": [
          0.13745314
         ],
         "y": [
          0.27986538
         ],
         "z": [
          0.28811955
         ]
        },
        {
         "hovertemplate": "color=past<br>0=%{x}<br>1=%{y}<br>2=%{z}<extra></extra>",
         "legendgroup": "past",
         "marker": {
          "color": "#19d3f3",
          "symbol": "circle"
         },
         "mode": "markers",
         "name": "past",
         "scene": "scene",
         "showlegend": true,
         "type": "scatter3d",
         "x": [
          0.43084222
         ],
         "y": [
          0.4625231
         ],
         "z": [
          0.35890204
         ]
        },
        {
         "hovertemplate": "color=life<br>0=%{x}<br>1=%{y}<br>2=%{z}<extra></extra>",
         "legendgroup": "life",
         "marker": {
          "color": "#FF6692",
          "symbol": "circle"
         },
         "mode": "markers",
         "name": "life",
         "scene": "scene",
         "showlegend": true,
         "type": "scatter3d",
         "x": [
          -0.5628843
         ],
         "y": [
          0.035436146
         ],
         "z": [
          0.40980232
         ]
        },
        {
         "hovertemplate": "color=tower<br>0=%{x}<br>1=%{y}<br>2=%{z}<extra></extra>",
         "legendgroup": "tower",
         "marker": {
          "color": "#B6E880",
          "symbol": "circle"
         },
         "mode": "markers",
         "name": "tower",
         "scene": "scene",
         "showlegend": true,
         "type": "scatter3d",
         "x": [
          0.3177807
         ],
         "y": [
          0.6188613
         ],
         "z": [
          0.26915684
         ]
        },
        {
         "hovertemplate": "color=killed<br>0=%{x}<br>1=%{y}<br>2=%{z}<extra></extra>",
         "legendgroup": "killed",
         "marker": {
          "color": "#FF97FF",
          "symbol": "circle"
         },
         "mode": "markers",
         "name": "killed",
         "scene": "scene",
         "showlegend": true,
         "type": "scatter3d",
         "x": [
          -0.5695937
         ],
         "y": [
          0.20847777
         ],
         "z": [
          -0.12920058
         ]
        },
        {
         "hovertemplate": "color=arm<br>0=%{x}<br>1=%{y}<br>2=%{z}<extra></extra>",
         "legendgroup": "arm",
         "marker": {
          "color": "#FECB52",
          "symbol": "circle"
         },
         "mode": "markers",
         "name": "arm",
         "scene": "scene",
         "showlegend": true,
         "type": "scatter3d",
         "x": [
          0.43002453
         ],
         "y": [
          0.023436697
         ],
         "z": [
          -0.42208108
         ]
        },
        {
         "hovertemplate": "color=sons<br>0=%{x}<br>1=%{y}<br>2=%{z}<extra></extra>",
         "legendgroup": "sons",
         "marker": {
          "color": "#636efa",
          "symbol": "circle"
         },
         "mode": "markers",
         "name": "sons",
         "scene": "scene",
         "showlegend": true,
         "type": "scatter3d",
         "x": [
          -0.48829082
         ],
         "y": [
          0.79760444
         ],
         "z": [
          0.002702902
         ]
        },
        {
         "hovertemplate": "color=free<br>0=%{x}<br>1=%{y}<br>2=%{z}<extra></extra>",
         "legendgroup": "free",
         "marker": {
          "color": "#EF553B",
          "symbol": "circle"
         },
         "mode": "markers",
         "name": "free",
         "scene": "scene",
         "showlegend": true,
         "type": "scatter3d",
         "x": [
          -0.121435866
         ],
         "y": [
          0.25298628
         ],
         "z": [
          0.6144427
         ]
        },
        {
         "hovertemplate": "color=tried<br>0=%{x}<br>1=%{y}<br>2=%{z}<extra></extra>",
         "legendgroup": "tried",
         "marker": {
          "color": "#00cc96",
          "symbol": "circle"
         },
         "mode": "markers",
         "name": "tried",
         "scene": "scene",
         "showlegend": true,
         "type": "scatter3d",
         "x": [
          -0.015838193
         ],
         "y": [
          -0.39319405
         ],
         "z": [
          0.032159425
         ]
        },
        {
         "hovertemplate": "color=thing<br>0=%{x}<br>1=%{y}<br>2=%{z}<extra></extra>",
         "legendgroup": "thing",
         "marker": {
          "color": "#ab63fa",
          "symbol": "circle"
         },
         "mode": "markers",
         "name": "thing",
         "scene": "scene",
         "showlegend": true,
         "type": "scatter3d",
         "x": [
          -0.23583996
         ],
         "y": [
          -0.3697234
         ],
         "z": [
          0.21106783
         ]
        },
        {
         "hovertemplate": "color=days<br>0=%{x}<br>1=%{y}<br>2=%{z}<extra></extra>",
         "legendgroup": "days",
         "marker": {
          "color": "#FFA15A",
          "symbol": "circle"
         },
         "mode": "markers",
         "name": "days",
         "scene": "scene",
         "showlegend": true,
         "type": "scatter3d",
         "x": [
          -0.10725972
         ],
         "y": [
          0.35454595
         ],
         "z": [
          0.6677187
         ]
        },
        {
         "hovertemplate": "color=bear<br>0=%{x}<br>1=%{y}<br>2=%{z}<extra></extra>",
         "legendgroup": "bear",
         "marker": {
          "color": "#19d3f3",
          "symbol": "circle"
         },
         "mode": "markers",
         "name": "bear",
         "scene": "scene",
         "showlegend": true,
         "type": "scatter3d",
         "x": [
          -0.088068195
         ],
         "y": [
          0.11642529
         ],
         "z": [
          -0.095581025
         ]
        },
        {
         "hovertemplate": "color=bloody<br>0=%{x}<br>1=%{y}<br>2=%{z}<extra></extra>",
         "legendgroup": "bloody",
         "marker": {
          "color": "#FF6692",
          "symbol": "circle"
         },
         "mode": "markers",
         "name": "bloody",
         "scene": "scene",
         "showlegend": true,
         "type": "scatter3d",
         "x": [
          -0.019711781
         ],
         "y": [
          -0.17150667
         ],
         "z": [
          0.1598035
         ]
        },
        {
         "hovertemplate": "color=heart<br>0=%{x}<br>1=%{y}<br>2=%{z}<extra></extra>",
         "legendgroup": "heart",
         "marker": {
          "color": "#B6E880",
          "symbol": "circle"
         },
         "mode": "markers",
         "name": "heart",
         "scene": "scene",
         "showlegend": true,
         "type": "scatter3d",
         "x": [
          0.22702837
         ],
         "y": [
          -0.08201734
         ],
         "z": [
          -0.004636331
         ]
        },
        {
         "hovertemplate": "color=pale<br>0=%{x}<br>1=%{y}<br>2=%{z}<extra></extra>",
         "legendgroup": "pale",
         "marker": {
          "color": "#FF97FF",
          "symbol": "circle"
         },
         "mode": "markers",
         "name": "pale",
         "scene": "scene",
         "showlegend": true,
         "type": "scatter3d",
         "x": [
          0.6891391
         ],
         "y": [
          0.1411913
         ],
         "z": [
          -0.19259773
         ]
        },
        {
         "hovertemplate": "color=love<br>0=%{x}<br>1=%{y}<br>2=%{z}<extra></extra>",
         "legendgroup": "love",
         "marker": {
          "color": "#FECB52",
          "symbol": "circle"
         },
         "mode": "markers",
         "name": "love",
         "scene": "scene",
         "showlegend": true,
         "type": "scatter3d",
         "x": [
          -0.76872325
         ],
         "y": [
          -0.065282464
         ],
         "z": [
          0.029560218
         ]
        },
        {
         "hovertemplate": "color=moment<br>0=%{x}<br>1=%{y}<br>2=%{z}<extra></extra>",
         "legendgroup": "moment",
         "marker": {
          "color": "#636efa",
          "symbol": "circle"
         },
         "mode": "markers",
         "name": "moment",
         "scene": "scene",
         "showlegend": true,
         "type": "scatter3d",
         "x": [
          -0.014283023
         ],
         "y": [
          -0.46165338
         ],
         "z": [
          -0.16532192
         ]
        },
        {
         "hovertemplate": "color=sat<br>0=%{x}<br>1=%{y}<br>2=%{z}<extra></extra>",
         "legendgroup": "sat",
         "marker": {
          "color": "#EF553B",
          "symbol": "circle"
         },
         "mode": "markers",
         "name": "sat",
         "scene": "scene",
         "showlegend": true,
         "type": "scatter3d",
         "x": [
          0.48215774
         ],
         "y": [
          0.46288234
         ],
         "z": [
          -0.1913553
         ]
        },
        {
         "hovertemplate": "color=bring<br>0=%{x}<br>1=%{y}<br>2=%{z}<extra></extra>",
         "legendgroup": "bring",
         "marker": {
          "color": "#00cc96",
          "symbol": "circle"
         },
         "mode": "markers",
         "name": "bring",
         "scene": "scene",
         "showlegend": true,
         "type": "scatter3d",
         "x": [
          -0.5406832
         ],
         "y": [
          0.034730975
         ],
         "z": [
          0.1560605
         ]
        },
        {
         "hovertemplate": "color=bed<br>0=%{x}<br>1=%{y}<br>2=%{z}<extra></extra>",
         "legendgroup": "bed",
         "marker": {
          "color": "#ab63fa",
          "symbol": "circle"
         },
         "mode": "markers",
         "name": "bed",
         "scene": "scene",
         "showlegend": true,
         "type": "scatter3d",
         "x": [
          0.12557472
         ],
         "y": [
          -0.24066456
         ],
         "z": [
          0.01523045
         ]
        },
        {
         "hovertemplate": "color=close<br>0=%{x}<br>1=%{y}<br>2=%{z}<extra></extra>",
         "legendgroup": "close",
         "marker": {
          "color": "#FFA15A",
          "symbol": "circle"
         },
         "mode": "markers",
         "name": "close",
         "scene": "scene",
         "showlegend": true,
         "type": "scatter3d",
         "x": [
          0.35669678
         ],
         "y": [
          -0.12157529
         ],
         "z": [
          0.12059328
         ]
        },
        {
         "hovertemplate": "color=knights<br>0=%{x}<br>1=%{y}<br>2=%{z}<extra></extra>",
         "legendgroup": "knights",
         "marker": {
          "color": "#19d3f3",
          "symbol": "circle"
         },
         "mode": "markers",
         "name": "knights",
         "scene": "scene",
         "showlegend": true,
         "type": "scatter3d",
         "x": [
          -0.24842417
         ],
         "y": [
          0.8582007
         ],
         "z": [
          0.09109569
         ]
        },
        {
         "hovertemplate": "color=cut<br>0=%{x}<br>1=%{y}<br>2=%{z}<extra></extra>",
         "legendgroup": "cut",
         "marker": {
          "color": "#FF6692",
          "symbol": "circle"
         },
         "mode": "markers",
         "name": "cut",
         "scene": "scene",
         "showlegend": true,
         "type": "scatter3d",
         "x": [
          0.3378852
         ],
         "y": [
          -0.15434413
         ],
         "z": [
          -0.051283225
         ]
        },
        {
         "hovertemplate": "color=wolf<br>0=%{x}<br>1=%{y}<br>2=%{z}<extra></extra>",
         "legendgroup": "wolf",
         "marker": {
          "color": "#B6E880",
          "symbol": "circle"
         },
         "mode": "markers",
         "name": "wolf",
         "scene": "scene",
         "showlegend": true,
         "type": "scatter3d",
         "x": [
          0.028889032
         ],
         "y": [
          -0.08089532
         ],
         "z": [
          -0.047255185
         ]
        },
        {
         "hovertemplate": "color=horses<br>0=%{x}<br>1=%{y}<br>2=%{z}<extra></extra>",
         "legendgroup": "horses",
         "marker": {
          "color": "#FF97FF",
          "symbol": "circle"
         },
         "mode": "markers",
         "name": "horses",
         "scene": "scene",
         "showlegend": true,
         "type": "scatter3d",
         "x": [
          0.40795112
         ],
         "y": [
          0.15653741
         ],
         "z": [
          0.5496411
         ]
        },
        {
         "hovertemplate": "color=death<br>0=%{x}<br>1=%{y}<br>2=%{z}<extra></extra>",
         "legendgroup": "death",
         "marker": {
          "color": "#FECB52",
          "symbol": "circle"
         },
         "mode": "markers",
         "name": "death",
         "scene": "scene",
         "showlegend": true,
         "type": "scatter3d",
         "x": [
          -0.48894826
         ],
         "y": [
          0.03041202
         ],
         "z": [
          0.25569695
         ]
        },
        {
         "hovertemplate": "color=smile<br>0=%{x}<br>1=%{y}<br>2=%{z}<extra></extra>",
         "legendgroup": "smile",
         "marker": {
          "color": "#636efa",
          "symbol": "circle"
         },
         "mode": "markers",
         "name": "smile",
         "scene": "scene",
         "showlegend": true,
         "type": "scatter3d",
         "x": [
          -0.036204275
         ],
         "y": [
          -0.38945398
         ],
         "z": [
          -0.60966235
         ]
        },
        {
         "hovertemplate": "color=inside<br>0=%{x}<br>1=%{y}<br>2=%{z}<extra></extra>",
         "legendgroup": "inside",
         "marker": {
          "color": "#EF553B",
          "symbol": "circle"
         },
         "mode": "markers",
         "name": "inside",
         "scene": "scene",
         "showlegend": true,
         "type": "scatter3d",
         "x": [
          0.68351716
         ],
         "y": [
          -0.101033054
         ],
         "z": [
          0.24748611
         ]
        },
        {
         "hovertemplate": "color=four<br>0=%{x}<br>1=%{y}<br>2=%{z}<extra></extra>",
         "legendgroup": "four",
         "marker": {
          "color": "#00cc96",
          "symbol": "circle"
         },
         "mode": "markers",
         "name": "four",
         "scene": "scene",
         "showlegend": true,
         "type": "scatter3d",
         "x": [
          0.049086694
         ],
         "y": [
          0.69297385
         ],
         "z": [
          0.2633518
         ]
        },
        {
         "hovertemplate": "color=brown<br>0=%{x}<br>1=%{y}<br>2=%{z}<extra></extra>",
         "legendgroup": "brown",
         "marker": {
          "color": "#ab63fa",
          "symbol": "circle"
         },
         "mode": "markers",
         "name": "brown",
         "scene": "scene",
         "showlegend": true,
         "type": "scatter3d",
         "x": [
          0.606627
         ],
         "y": [
          0.13411537
         ],
         "z": [
          -0.26657388
         ]
        },
        {
         "hovertemplate": "color=hot<br>0=%{x}<br>1=%{y}<br>2=%{z}<extra></extra>",
         "legendgroup": "hot",
         "marker": {
          "color": "#FFA15A",
          "symbol": "circle"
         },
         "mode": "markers",
         "name": "hot",
         "scene": "scene",
         "showlegend": true,
         "type": "scatter3d",
         "x": [
          0.4391087
         ],
         "y": [
          -0.4578136
         ],
         "z": [
          0.19217326
         ]
        },
        {
         "hovertemplate": "color=dragons<br>0=%{x}<br>1=%{y}<br>2=%{z}<extra></extra>",
         "legendgroup": "dragons",
         "marker": {
          "color": "#19d3f3",
          "symbol": "circle"
         },
         "mode": "markers",
         "name": "dragons",
         "scene": "scene",
         "showlegend": true,
         "type": "scatter3d",
         "x": [
          -0.20647253
         ],
         "y": [
          0.18061382
         ],
         "z": [
          0.5279442
         ]
        },
        {
         "hovertemplate": "color=silver<br>0=%{x}<br>1=%{y}<br>2=%{z}<extra></extra>",
         "legendgroup": "silver",
         "marker": {
          "color": "#FF6692",
          "symbol": "circle"
         },
         "mode": "markers",
         "name": "silver",
         "scene": "scene",
         "showlegend": true,
         "type": "scatter3d",
         "x": [
          0.5096276
         ],
         "y": [
          0.4395113
         ],
         "z": [
          -0.22800884
         ]
        },
        {
         "hovertemplate": "color=part<br>0=%{x}<br>1=%{y}<br>2=%{z}<extra></extra>",
         "legendgroup": "part",
         "marker": {
          "color": "#B6E880",
          "symbol": "circle"
         },
         "mode": "markers",
         "name": "part",
         "scene": "scene",
         "showlegend": true,
         "type": "scatter3d",
         "x": [
          -0.59376216
         ],
         "y": [
          0.04766866
         ],
         "z": [
          0.38636532
         ]
        },
        {
         "hovertemplate": "color=bastard<br>0=%{x}<br>1=%{y}<br>2=%{z}<extra></extra>",
         "legendgroup": "bastard",
         "marker": {
          "color": "#FF97FF",
          "symbol": "circle"
         },
         "mode": "markers",
         "name": "bastard",
         "scene": "scene",
         "showlegend": true,
         "type": "scatter3d",
         "x": [
          -0.5729995
         ],
         "y": [
          0.546211
         ],
         "z": [
          -0.27267146
         ]
        },
        {
         "hovertemplate": "color=open<br>0=%{x}<br>1=%{y}<br>2=%{z}<extra></extra>",
         "legendgroup": "open",
         "marker": {
          "color": "#FECB52",
          "symbol": "circle"
         },
         "mode": "markers",
         "name": "open",
         "scene": "scene",
         "showlegend": true,
         "type": "scatter3d",
         "x": [
          0.5119016
         ],
         "y": [
          0.07318122
         ],
         "z": [
          -0.039467342
         ]
        },
        {
         "hovertemplate": "color=thousand<br>0=%{x}<br>1=%{y}<br>2=%{z}<extra></extra>",
         "legendgroup": "thousand",
         "marker": {
          "color": "#636efa",
          "symbol": "circle"
         },
         "mode": "markers",
         "name": "thousand",
         "scene": "scene",
         "showlegend": true,
         "type": "scatter3d",
         "x": [
          -0.047802545
         ],
         "y": [
          0.5506004
         ],
         "z": [
          0.5705025
         ]
        },
        {
         "hovertemplate": "color=landing<br>0=%{x}<br>1=%{y}<br>2=%{z}<extra></extra>",
         "legendgroup": "landing",
         "marker": {
          "color": "#EF553B",
          "symbol": "circle"
         },
         "mode": "markers",
         "name": "landing",
         "scene": "scene",
         "showlegend": true,
         "type": "scatter3d",
         "x": [
          -0.34985465
         ],
         "y": [
          0.47449526
         ],
         "z": [
          0.1281629
         ]
        },
        {
         "hovertemplate": "color=uncle<br>0=%{x}<br>1=%{y}<br>2=%{z}<extra></extra>",
         "legendgroup": "uncle",
         "marker": {
          "color": "#00cc96",
          "symbol": "circle"
         },
         "mode": "markers",
         "name": "uncle",
         "scene": "scene",
         "showlegend": true,
         "type": "scatter3d",
         "x": [
          -0.6759687
         ],
         "y": [
          0.48720264
         ],
         "z": [
          -0.28565353
         ]
        },
        {
         "hovertemplate": "color=going<br>0=%{x}<br>1=%{y}<br>2=%{z}<extra></extra>",
         "legendgroup": "going",
         "marker": {
          "color": "#ab63fa",
          "symbol": "circle"
         },
         "mode": "markers",
         "name": "going",
         "scene": "scene",
         "showlegend": true,
         "type": "scatter3d",
         "x": [
          -0.2945541
         ],
         "y": [
          -0.30792457
         ],
         "z": [
          0.44060352
         ]
        },
        {
         "hovertemplate": "color=blue<br>0=%{x}<br>1=%{y}<br>2=%{z}<extra></extra>",
         "legendgroup": "blue",
         "marker": {
          "color": "#FFA15A",
          "symbol": "circle"
         },
         "mode": "markers",
         "name": "blue",
         "scene": "scene",
         "showlegend": true,
         "type": "scatter3d",
         "x": [
          0.5612366
         ],
         "y": [
          0.27911273
         ],
         "z": [
          -0.17700471
         ]
        },
        {
         "hovertemplate": "color=captain<br>0=%{x}<br>1=%{y}<br>2=%{z}<extra></extra>",
         "legendgroup": "captain",
         "marker": {
          "color": "#19d3f3",
          "symbol": "circle"
         },
         "mode": "markers",
         "name": "captain",
         "scene": "scene",
         "showlegend": true,
         "type": "scatter3d",
         "x": [
          -0.29988876
         ],
         "y": [
          0.64569515
         ],
         "z": [
          -0.24123049
         ]
        },
        {
         "hovertemplate": "color=air<br>0=%{x}<br>1=%{y}<br>2=%{z}<extra></extra>",
         "legendgroup": "air",
         "marker": {
          "color": "#FF6692",
          "symbol": "circle"
         },
         "mode": "markers",
         "name": "air",
         "scene": "scene",
         "showlegend": true,
         "type": "scatter3d",
         "x": [
          0.7256093
         ],
         "y": [
          -0.20764261
         ],
         "z": [
          0.16840704
         ]
        },
        {
         "hovertemplate": "color=please<br>0=%{x}<br>1=%{y}<br>2=%{z}<extra></extra>",
         "legendgroup": "please",
         "marker": {
          "color": "#B6E880",
          "symbol": "circle"
         },
         "mode": "markers",
         "name": "please",
         "scene": "scene",
         "showlegend": true,
         "type": "scatter3d",
         "x": [
          -0.67895657
         ],
         "y": [
          -0.16867943
         ],
         "z": [
          -0.133273
         ]
        },
        {
         "hovertemplate": "color=laughed<br>0=%{x}<br>1=%{y}<br>2=%{z}<extra></extra>",
         "legendgroup": "laughed",
         "marker": {
          "color": "#FF97FF",
          "symbol": "circle"
         },
         "mode": "markers",
         "name": "laughed",
         "scene": "scene",
         "showlegend": true,
         "type": "scatter3d",
         "x": [
          -0.32359052
         ],
         "y": [
          -0.20448391
         ],
         "z": [
          -0.4726549
         ]
        },
        {
         "hovertemplate": "color=river<br>0=%{x}<br>1=%{y}<br>2=%{z}<extra></extra>",
         "legendgroup": "river",
         "marker": {
          "color": "#FECB52",
          "symbol": "circle"
         },
         "mode": "markers",
         "name": "river",
         "scene": "scene",
         "showlegend": true,
         "type": "scatter3d",
         "x": [
          0.45141926
         ],
         "y": [
          0.3571509
         ],
         "z": [
          0.49123928
         ]
        },
        {
         "hovertemplate": "color=sun<br>0=%{x}<br>1=%{y}<br>2=%{z}<extra></extra>",
         "legendgroup": "sun",
         "marker": {
          "color": "#636efa",
          "symbol": "circle"
         },
         "mode": "markers",
         "name": "sun",
         "scene": "scene",
         "showlegend": true,
         "type": "scatter3d",
         "x": [
          0.5413251
         ],
         "y": [
          0.1673904
         ],
         "z": [
          0.36271828
         ]
        },
        {
         "hovertemplate": "color=rose<br>0=%{x}<br>1=%{y}<br>2=%{z}<extra></extra>",
         "legendgroup": "rose",
         "marker": {
          "color": "#EF553B",
          "symbol": "circle"
         },
         "mode": "markers",
         "name": "rose",
         "scene": "scene",
         "showlegend": true,
         "type": "scatter3d",
         "x": [
          0.6407578
         ],
         "y": [
          0.41025233
         ],
         "z": [
          -0.100872636
         ]
        },
        {
         "hovertemplate": "color=fell<br>0=%{x}<br>1=%{y}<br>2=%{z}<extra></extra>",
         "legendgroup": "fell",
         "marker": {
          "color": "#00cc96",
          "symbol": "circle"
         },
         "mode": "markers",
         "name": "fell",
         "scene": "scene",
         "showlegend": true,
         "type": "scatter3d",
         "x": [
          0.5947437
         ],
         "y": [
          0.13899685
         ],
         "z": [
          -0.06664821
         ]
        },
        {
         "hovertemplate": "color=war<br>0=%{x}<br>1=%{y}<br>2=%{z}<extra></extra>",
         "legendgroup": "war",
         "marker": {
          "color": "#ab63fa",
          "symbol": "circle"
         },
         "mode": "markers",
         "name": "war",
         "scene": "scene",
         "showlegend": true,
         "type": "scatter3d",
         "x": [
          -0.61214435
         ],
         "y": [
          0.5029356
         ],
         "z": [
          0.39895734
         ]
        },
        {
         "hovertemplate": "color=golden<br>0=%{x}<br>1=%{y}<br>2=%{z}<extra></extra>",
         "legendgroup": "golden",
         "marker": {
          "color": "#FFA15A",
          "symbol": "circle"
         },
         "mode": "markers",
         "name": "golden",
         "scene": "scene",
         "showlegend": true,
         "type": "scatter3d",
         "x": [
          0.44242737
         ],
         "y": [
          0.6127101
         ],
         "z": [
          -0.25180745
         ]
        },
        {
         "hovertemplate": "color=sleep<br>0=%{x}<br>1=%{y}<br>2=%{z}<extra></extra>",
         "legendgroup": "sleep",
         "marker": {
          "color": "#19d3f3",
          "symbol": "circle"
         },
         "mode": "markers",
         "name": "sleep",
         "scene": "scene",
         "showlegend": true,
         "type": "scatter3d",
         "x": [
          0.020371497
         ],
         "y": [
          -0.51724494
         ],
         "z": [
          0.25131586
         ]
        },
        {
         "hovertemplate": "color=swords<br>0=%{x}<br>1=%{y}<br>2=%{z}<extra></extra>",
         "legendgroup": "swords",
         "marker": {
          "color": "#FF6692",
          "symbol": "circle"
         },
         "mode": "markers",
         "name": "swords",
         "scene": "scene",
         "showlegend": true,
         "type": "scatter3d",
         "x": [
          -0.055893593
         ],
         "y": [
          0.66779876
         ],
         "z": [
          0.38590243
         ]
        },
        {
         "hovertemplate": "color=without<br>0=%{x}<br>1=%{y}<br>2=%{z}<extra></extra>",
         "legendgroup": "without",
         "marker": {
          "color": "#B6E880",
          "symbol": "circle"
         },
         "mode": "markers",
         "name": "without",
         "scene": "scene",
         "showlegend": true,
         "type": "scatter3d",
         "x": [
          -0.47568068
         ],
         "y": [
          -0.026772007
         ],
         "z": [
          0.40097502
         ]
        },
        {
         "hovertemplate": "color=speak<br>0=%{x}<br>1=%{y}<br>2=%{z}<extra></extra>",
         "legendgroup": "speak",
         "marker": {
          "color": "#FF97FF",
          "symbol": "circle"
         },
         "mode": "markers",
         "name": "speak",
         "scene": "scene",
         "showlegend": true,
         "type": "scatter3d",
         "x": [
          -0.6723873
         ],
         "y": [
          -0.18458912
         ],
         "z": [
          0.13055143
         ]
        },
        {
         "hovertemplate": "color=renly<br>0=%{x}<br>1=%{y}<br>2=%{z}<extra></extra>",
         "legendgroup": "renly",
         "marker": {
          "color": "#FECB52",
          "symbol": "circle"
         },
         "mode": "markers",
         "name": "renly",
         "scene": "scene",
         "showlegend": true,
         "type": "scatter3d",
         "x": [
          -0.45290017
         ],
         "y": [
          0.52651143
         ],
         "z": [
          -0.21595813
         ]
        },
        {
         "hovertemplate": "color=fool<br>0=%{x}<br>1=%{y}<br>2=%{z}<extra></extra>",
         "legendgroup": "fool",
         "marker": {
          "color": "#636efa",
          "symbol": "circle"
         },
         "mode": "markers",
         "name": "fool",
         "scene": "scene",
         "showlegend": true,
         "type": "scatter3d",
         "x": [
          -0.5941631
         ],
         "y": [
          -0.12706567
         ],
         "z": [
          -0.28779727
         ]
        },
        {
         "hovertemplate": "color=full<br>0=%{x}<br>1=%{y}<br>2=%{z}<extra></extra>",
         "legendgroup": "full",
         "marker": {
          "color": "#EF553B",
          "symbol": "circle"
         },
         "mode": "markers",
         "name": "full",
         "scene": "scene",
         "showlegend": true,
         "type": "scatter3d",
         "x": [
          0.39713475
         ],
         "y": [
          -0.16198635
         ],
         "z": [
          0.29496023
         ]
        },
        {
         "hovertemplate": "color=certain<br>0=%{x}<br>1=%{y}<br>2=%{z}<extra></extra>",
         "legendgroup": "certain",
         "marker": {
          "color": "#00cc96",
          "symbol": "circle"
         },
         "mode": "markers",
         "name": "certain",
         "scene": "scene",
         "showlegend": true,
         "type": "scatter3d",
         "x": [
          -0.63507235
         ],
         "y": [
          -0.20296532
         ],
         "z": [
          0.20581803
         ]
        },
        {
         "hovertemplate": "color=beyond<br>0=%{x}<br>1=%{y}<br>2=%{z}<extra></extra>",
         "legendgroup": "beyond",
         "marker": {
          "color": "#ab63fa",
          "symbol": "circle"
         },
         "mode": "markers",
         "name": "beyond",
         "scene": "scene",
         "showlegend": true,
         "type": "scatter3d",
         "x": [
          0.053486265
         ],
         "y": [
          0.4316568
         ],
         "z": [
          0.64658374
         ]
        },
        {
         "hovertemplate": "color=feel<br>0=%{x}<br>1=%{y}<br>2=%{z}<extra></extra>",
         "legendgroup": "feel",
         "marker": {
          "color": "#FFA15A",
          "symbol": "circle"
         },
         "mode": "markers",
         "name": "feel",
         "scene": "scene",
         "showlegend": true,
         "type": "scatter3d",
         "x": [
          0.23384516
         ],
         "y": [
          -0.5003664
         ],
         "z": [
          0.114028394
         ]
        },
        {
         "hovertemplate": "color=send<br>0=%{x}<br>1=%{y}<br>2=%{z}<extra></extra>",
         "legendgroup": "send",
         "marker": {
          "color": "#19d3f3",
          "symbol": "circle"
         },
         "mode": "markers",
         "name": "send",
         "scene": "scene",
         "showlegend": true,
         "type": "scatter3d",
         "x": [
          -0.56106484
         ],
         "y": [
          0.1644291
         ],
         "z": [
          0.18358782
         ]
        },
        {
         "hovertemplate": "color=tongue<br>0=%{x}<br>1=%{y}<br>2=%{z}<extra></extra>",
         "legendgroup": "tongue",
         "marker": {
          "color": "#FF6692",
          "symbol": "circle"
         },
         "mode": "markers",
         "name": "tongue",
         "scene": "scene",
         "showlegend": true,
         "type": "scatter3d",
         "x": [
          -0.09959362
         ],
         "y": [
          -0.40325767
         ],
         "z": [
          -0.12766165
         ]
        },
        {
         "hovertemplate": "color=got<br>0=%{x}<br>1=%{y}<br>2=%{z}<extra></extra>",
         "legendgroup": "got",
         "marker": {
          "color": "#B6E880",
          "symbol": "circle"
         },
         "mode": "markers",
         "name": "got",
         "scene": "scene",
         "showlegend": true,
         "type": "scatter3d",
         "x": [
          0.07306365
         ],
         "y": [
          -0.33389568
         ],
         "z": [
          0.104512654
         ]
        },
        {
         "hovertemplate": "color=fight<br>0=%{x}<br>1=%{y}<br>2=%{z}<extra></extra>",
         "legendgroup": "fight",
         "marker": {
          "color": "#FF97FF",
          "symbol": "circle"
         },
         "mode": "markers",
         "name": "fight",
         "scene": "scene",
         "showlegend": true,
         "type": "scatter3d",
         "x": [
          -0.46652263
         ],
         "y": [
          -0.04340755
         ],
         "z": [
          0.4532493
         ]
        },
        {
         "hovertemplate": "color=rode<br>0=%{x}<br>1=%{y}<br>2=%{z}<extra></extra>",
         "legendgroup": "rode",
         "marker": {
          "color": "#FECB52",
          "symbol": "circle"
         },
         "mode": "markers",
         "name": "rode",
         "scene": "scene",
         "showlegend": true,
         "type": "scatter3d",
         "x": [
          0.34600556
         ],
         "y": [
          0.61005026
         ],
         "z": [
          0.12013733
         ]
        },
        {
         "hovertemplate": "color=set<br>0=%{x}<br>1=%{y}<br>2=%{z}<extra></extra>",
         "legendgroup": "set",
         "marker": {
          "color": "#636efa",
          "symbol": "circle"
         },
         "mode": "markers",
         "name": "set",
         "scene": "scene",
         "showlegend": true,
         "type": "scatter3d",
         "x": [
          0.3456005
         ],
         "y": [
          0.3707325
         ],
         "z": [
          0.17671217
         ]
        },
        {
         "hovertemplate": "color=thick<br>0=%{x}<br>1=%{y}<br>2=%{z}<extra></extra>",
         "legendgroup": "thick",
         "marker": {
          "color": "#EF553B",
          "symbol": "circle"
         },
         "mode": "markers",
         "name": "thick",
         "scene": "scene",
         "showlegend": true,
         "type": "scatter3d",
         "x": [
          0.7582847
         ],
         "y": [
          0.118559904
         ],
         "z": [
          -0.048939005
         ]
        },
        {
         "hovertemplate": "color=throat<br>0=%{x}<br>1=%{y}<br>2=%{z}<extra></extra>",
         "legendgroup": "throat",
         "marker": {
          "color": "#00cc96",
          "symbol": "circle"
         },
         "mode": "markers",
         "name": "throat",
         "scene": "scene",
         "showlegend": true,
         "type": "scatter3d",
         "x": [
          0.47575253
         ],
         "y": [
          -0.32406756
         ],
         "z": [
          -0.4257147
         ]
        },
        {
         "hovertemplate": "color=world<br>0=%{x}<br>1=%{y}<br>2=%{z}<extra></extra>",
         "legendgroup": "world",
         "marker": {
          "color": "#ab63fa",
          "symbol": "circle"
         },
         "mode": "markers",
         "name": "world",
         "scene": "scene",
         "showlegend": true,
         "type": "scatter3d",
         "x": [
          0.056069735
         ],
         "y": [
          -0.07915547
         ],
         "z": [
          0.6839807
         ]
        },
        {
         "hovertemplate": "color=deep<br>0=%{x}<br>1=%{y}<br>2=%{z}<extra></extra>",
         "legendgroup": "deep",
         "marker": {
          "color": "#FFA15A",
          "symbol": "circle"
         },
         "mode": "markers",
         "name": "deep",
         "scene": "scene",
         "showlegend": true,
         "type": "scatter3d",
         "x": [
          0.7475249
         ],
         "y": [
          0.040229164
         ],
         "z": [
          0.07011376
         ]
        },
        {
         "hovertemplate": "color=legs<br>0=%{x}<br>1=%{y}<br>2=%{z}<extra></extra>",
         "legendgroup": "legs",
         "marker": {
          "color": "#19d3f3",
          "symbol": "circle"
         },
         "mode": "markers",
         "name": "legs",
         "scene": "scene",
         "showlegend": true,
         "type": "scatter3d",
         "x": [
          0.7077663
         ],
         "y": [
          -0.14994633
         ],
         "z": [
          -0.05581319
         ]
        },
        {
         "hovertemplate": "color=call<br>0=%{x}<br>1=%{y}<br>2=%{z}<extra></extra>",
         "legendgroup": "call",
         "marker": {
          "color": "#FF6692",
          "symbol": "circle"
         },
         "mode": "markers",
         "name": "call",
         "scene": "scene",
         "showlegend": true,
         "type": "scatter3d",
         "x": [
          -0.66415554
         ],
         "y": [
          -0.0023809725
         ],
         "z": [
          0.077980146
         ]
        },
        {
         "hovertemplate": "color=honor<br>0=%{x}<br>1=%{y}<br>2=%{z}<extra></extra>",
         "legendgroup": "honor",
         "marker": {
          "color": "#B6E880",
          "symbol": "circle"
         },
         "mode": "markers",
         "name": "honor",
         "scene": "scene",
         "showlegend": true,
         "type": "scatter3d",
         "x": [
          -0.72863907
         ],
         "y": [
          0.4359471
         ],
         "z": [
          -0.037784867
         ]
        },
        {
         "hovertemplate": "color=rock<br>0=%{x}<br>1=%{y}<br>2=%{z}<extra></extra>",
         "legendgroup": "rock",
         "marker": {
          "color": "#FF97FF",
          "symbol": "circle"
         },
         "mode": "markers",
         "name": "rock",
         "scene": "scene",
         "showlegend": true,
         "type": "scatter3d",
         "x": [
          0.088535115
         ],
         "y": [
          0.5696078
         ],
         "z": [
          0.015349779
         ]
        },
        {
         "hovertemplate": "color=trees<br>0=%{x}<br>1=%{y}<br>2=%{z}<extra></extra>",
         "legendgroup": "trees",
         "marker": {
          "color": "#FECB52",
          "symbol": "circle"
         },
         "mode": "markers",
         "name": "trees",
         "scene": "scene",
         "showlegend": true,
         "type": "scatter3d",
         "x": [
          0.6988932
         ],
         "y": [
          0.121488035
         ],
         "z": [
          0.3739313
         ]
        }
       ],
       "layout": {
        "legend": {
         "title": {
          "text": "color"
         },
         "tracegroupgap": 0
        },
        "margin": {
         "t": 60
        },
        "scene": {
         "domain": {
          "x": [
           0,
           1
          ],
          "y": [
           0,
           1
          ]
         },
         "xaxis": {
          "title": {
           "text": "0"
          }
         },
         "yaxis": {
          "title": {
           "text": "1"
          }
         },
         "zaxis": {
          "title": {
           "text": "2"
          }
         }
        },
        "template": {
         "data": {
          "bar": [
           {
            "error_x": {
             "color": "#2a3f5f"
            },
            "error_y": {
             "color": "#2a3f5f"
            },
            "marker": {
             "line": {
              "color": "#E5ECF6",
              "width": 0.5
             },
             "pattern": {
              "fillmode": "overlay",
              "size": 10,
              "solidity": 0.2
             }
            },
            "type": "bar"
           }
          ],
          "barpolar": [
           {
            "marker": {
             "line": {
              "color": "#E5ECF6",
              "width": 0.5
             },
             "pattern": {
              "fillmode": "overlay",
              "size": 10,
              "solidity": 0.2
             }
            },
            "type": "barpolar"
           }
          ],
          "carpet": [
           {
            "aaxis": {
             "endlinecolor": "#2a3f5f",
             "gridcolor": "white",
             "linecolor": "white",
             "minorgridcolor": "white",
             "startlinecolor": "#2a3f5f"
            },
            "baxis": {
             "endlinecolor": "#2a3f5f",
             "gridcolor": "white",
             "linecolor": "white",
             "minorgridcolor": "white",
             "startlinecolor": "#2a3f5f"
            },
            "type": "carpet"
           }
          ],
          "choropleth": [
           {
            "colorbar": {
             "outlinewidth": 0,
             "ticks": ""
            },
            "type": "choropleth"
           }
          ],
          "contour": [
           {
            "colorbar": {
             "outlinewidth": 0,
             "ticks": ""
            },
            "colorscale": [
             [
              0,
              "#0d0887"
             ],
             [
              0.1111111111111111,
              "#46039f"
             ],
             [
              0.2222222222222222,
              "#7201a8"
             ],
             [
              0.3333333333333333,
              "#9c179e"
             ],
             [
              0.4444444444444444,
              "#bd3786"
             ],
             [
              0.5555555555555556,
              "#d8576b"
             ],
             [
              0.6666666666666666,
              "#ed7953"
             ],
             [
              0.7777777777777778,
              "#fb9f3a"
             ],
             [
              0.8888888888888888,
              "#fdca26"
             ],
             [
              1,
              "#f0f921"
             ]
            ],
            "type": "contour"
           }
          ],
          "contourcarpet": [
           {
            "colorbar": {
             "outlinewidth": 0,
             "ticks": ""
            },
            "type": "contourcarpet"
           }
          ],
          "heatmap": [
           {
            "colorbar": {
             "outlinewidth": 0,
             "ticks": ""
            },
            "colorscale": [
             [
              0,
              "#0d0887"
             ],
             [
              0.1111111111111111,
              "#46039f"
             ],
             [
              0.2222222222222222,
              "#7201a8"
             ],
             [
              0.3333333333333333,
              "#9c179e"
             ],
             [
              0.4444444444444444,
              "#bd3786"
             ],
             [
              0.5555555555555556,
              "#d8576b"
             ],
             [
              0.6666666666666666,
              "#ed7953"
             ],
             [
              0.7777777777777778,
              "#fb9f3a"
             ],
             [
              0.8888888888888888,
              "#fdca26"
             ],
             [
              1,
              "#f0f921"
             ]
            ],
            "type": "heatmap"
           }
          ],
          "heatmapgl": [
           {
            "colorbar": {
             "outlinewidth": 0,
             "ticks": ""
            },
            "colorscale": [
             [
              0,
              "#0d0887"
             ],
             [
              0.1111111111111111,
              "#46039f"
             ],
             [
              0.2222222222222222,
              "#7201a8"
             ],
             [
              0.3333333333333333,
              "#9c179e"
             ],
             [
              0.4444444444444444,
              "#bd3786"
             ],
             [
              0.5555555555555556,
              "#d8576b"
             ],
             [
              0.6666666666666666,
              "#ed7953"
             ],
             [
              0.7777777777777778,
              "#fb9f3a"
             ],
             [
              0.8888888888888888,
              "#fdca26"
             ],
             [
              1,
              "#f0f921"
             ]
            ],
            "type": "heatmapgl"
           }
          ],
          "histogram": [
           {
            "marker": {
             "pattern": {
              "fillmode": "overlay",
              "size": 10,
              "solidity": 0.2
             }
            },
            "type": "histogram"
           }
          ],
          "histogram2d": [
           {
            "colorbar": {
             "outlinewidth": 0,
             "ticks": ""
            },
            "colorscale": [
             [
              0,
              "#0d0887"
             ],
             [
              0.1111111111111111,
              "#46039f"
             ],
             [
              0.2222222222222222,
              "#7201a8"
             ],
             [
              0.3333333333333333,
              "#9c179e"
             ],
             [
              0.4444444444444444,
              "#bd3786"
             ],
             [
              0.5555555555555556,
              "#d8576b"
             ],
             [
              0.6666666666666666,
              "#ed7953"
             ],
             [
              0.7777777777777778,
              "#fb9f3a"
             ],
             [
              0.8888888888888888,
              "#fdca26"
             ],
             [
              1,
              "#f0f921"
             ]
            ],
            "type": "histogram2d"
           }
          ],
          "histogram2dcontour": [
           {
            "colorbar": {
             "outlinewidth": 0,
             "ticks": ""
            },
            "colorscale": [
             [
              0,
              "#0d0887"
             ],
             [
              0.1111111111111111,
              "#46039f"
             ],
             [
              0.2222222222222222,
              "#7201a8"
             ],
             [
              0.3333333333333333,
              "#9c179e"
             ],
             [
              0.4444444444444444,
              "#bd3786"
             ],
             [
              0.5555555555555556,
              "#d8576b"
             ],
             [
              0.6666666666666666,
              "#ed7953"
             ],
             [
              0.7777777777777778,
              "#fb9f3a"
             ],
             [
              0.8888888888888888,
              "#fdca26"
             ],
             [
              1,
              "#f0f921"
             ]
            ],
            "type": "histogram2dcontour"
           }
          ],
          "mesh3d": [
           {
            "colorbar": {
             "outlinewidth": 0,
             "ticks": ""
            },
            "type": "mesh3d"
           }
          ],
          "parcoords": [
           {
            "line": {
             "colorbar": {
              "outlinewidth": 0,
              "ticks": ""
             }
            },
            "type": "parcoords"
           }
          ],
          "pie": [
           {
            "automargin": true,
            "type": "pie"
           }
          ],
          "scatter": [
           {
            "fillpattern": {
             "fillmode": "overlay",
             "size": 10,
             "solidity": 0.2
            },
            "type": "scatter"
           }
          ],
          "scatter3d": [
           {
            "line": {
             "colorbar": {
              "outlinewidth": 0,
              "ticks": ""
             }
            },
            "marker": {
             "colorbar": {
              "outlinewidth": 0,
              "ticks": ""
             }
            },
            "type": "scatter3d"
           }
          ],
          "scattercarpet": [
           {
            "marker": {
             "colorbar": {
              "outlinewidth": 0,
              "ticks": ""
             }
            },
            "type": "scattercarpet"
           }
          ],
          "scattergeo": [
           {
            "marker": {
             "colorbar": {
              "outlinewidth": 0,
              "ticks": ""
             }
            },
            "type": "scattergeo"
           }
          ],
          "scattergl": [
           {
            "marker": {
             "colorbar": {
              "outlinewidth": 0,
              "ticks": ""
             }
            },
            "type": "scattergl"
           }
          ],
          "scattermapbox": [
           {
            "marker": {
             "colorbar": {
              "outlinewidth": 0,
              "ticks": ""
             }
            },
            "type": "scattermapbox"
           }
          ],
          "scatterpolar": [
           {
            "marker": {
             "colorbar": {
              "outlinewidth": 0,
              "ticks": ""
             }
            },
            "type": "scatterpolar"
           }
          ],
          "scatterpolargl": [
           {
            "marker": {
             "colorbar": {
              "outlinewidth": 0,
              "ticks": ""
             }
            },
            "type": "scatterpolargl"
           }
          ],
          "scatterternary": [
           {
            "marker": {
             "colorbar": {
              "outlinewidth": 0,
              "ticks": ""
             }
            },
            "type": "scatterternary"
           }
          ],
          "surface": [
           {
            "colorbar": {
             "outlinewidth": 0,
             "ticks": ""
            },
            "colorscale": [
             [
              0,
              "#0d0887"
             ],
             [
              0.1111111111111111,
              "#46039f"
             ],
             [
              0.2222222222222222,
              "#7201a8"
             ],
             [
              0.3333333333333333,
              "#9c179e"
             ],
             [
              0.4444444444444444,
              "#bd3786"
             ],
             [
              0.5555555555555556,
              "#d8576b"
             ],
             [
              0.6666666666666666,
              "#ed7953"
             ],
             [
              0.7777777777777778,
              "#fb9f3a"
             ],
             [
              0.8888888888888888,
              "#fdca26"
             ],
             [
              1,
              "#f0f921"
             ]
            ],
            "type": "surface"
           }
          ],
          "table": [
           {
            "cells": {
             "fill": {
              "color": "#EBF0F8"
             },
             "line": {
              "color": "white"
             }
            },
            "header": {
             "fill": {
              "color": "#C8D4E3"
             },
             "line": {
              "color": "white"
             }
            },
            "type": "table"
           }
          ]
         },
         "layout": {
          "annotationdefaults": {
           "arrowcolor": "#2a3f5f",
           "arrowhead": 0,
           "arrowwidth": 1
          },
          "autotypenumbers": "strict",
          "coloraxis": {
           "colorbar": {
            "outlinewidth": 0,
            "ticks": ""
           }
          },
          "colorscale": {
           "diverging": [
            [
             0,
             "#8e0152"
            ],
            [
             0.1,
             "#c51b7d"
            ],
            [
             0.2,
             "#de77ae"
            ],
            [
             0.3,
             "#f1b6da"
            ],
            [
             0.4,
             "#fde0ef"
            ],
            [
             0.5,
             "#f7f7f7"
            ],
            [
             0.6,
             "#e6f5d0"
            ],
            [
             0.7,
             "#b8e186"
            ],
            [
             0.8,
             "#7fbc41"
            ],
            [
             0.9,
             "#4d9221"
            ],
            [
             1,
             "#276419"
            ]
           ],
           "sequential": [
            [
             0,
             "#0d0887"
            ],
            [
             0.1111111111111111,
             "#46039f"
            ],
            [
             0.2222222222222222,
             "#7201a8"
            ],
            [
             0.3333333333333333,
             "#9c179e"
            ],
            [
             0.4444444444444444,
             "#bd3786"
            ],
            [
             0.5555555555555556,
             "#d8576b"
            ],
            [
             0.6666666666666666,
             "#ed7953"
            ],
            [
             0.7777777777777778,
             "#fb9f3a"
            ],
            [
             0.8888888888888888,
             "#fdca26"
            ],
            [
             1,
             "#f0f921"
            ]
           ],
           "sequentialminus": [
            [
             0,
             "#0d0887"
            ],
            [
             0.1111111111111111,
             "#46039f"
            ],
            [
             0.2222222222222222,
             "#7201a8"
            ],
            [
             0.3333333333333333,
             "#9c179e"
            ],
            [
             0.4444444444444444,
             "#bd3786"
            ],
            [
             0.5555555555555556,
             "#d8576b"
            ],
            [
             0.6666666666666666,
             "#ed7953"
            ],
            [
             0.7777777777777778,
             "#fb9f3a"
            ],
            [
             0.8888888888888888,
             "#fdca26"
            ],
            [
             1,
             "#f0f921"
            ]
           ]
          },
          "colorway": [
           "#636efa",
           "#EF553B",
           "#00cc96",
           "#ab63fa",
           "#FFA15A",
           "#19d3f3",
           "#FF6692",
           "#B6E880",
           "#FF97FF",
           "#FECB52"
          ],
          "font": {
           "color": "#2a3f5f"
          },
          "geo": {
           "bgcolor": "white",
           "lakecolor": "white",
           "landcolor": "#E5ECF6",
           "showlakes": true,
           "showland": true,
           "subunitcolor": "white"
          },
          "hoverlabel": {
           "align": "left"
          },
          "hovermode": "closest",
          "mapbox": {
           "style": "light"
          },
          "paper_bgcolor": "white",
          "plot_bgcolor": "#E5ECF6",
          "polar": {
           "angularaxis": {
            "gridcolor": "white",
            "linecolor": "white",
            "ticks": ""
           },
           "bgcolor": "#E5ECF6",
           "radialaxis": {
            "gridcolor": "white",
            "linecolor": "white",
            "ticks": ""
           }
          },
          "scene": {
           "xaxis": {
            "backgroundcolor": "#E5ECF6",
            "gridcolor": "white",
            "gridwidth": 2,
            "linecolor": "white",
            "showbackground": true,
            "ticks": "",
            "zerolinecolor": "white"
           },
           "yaxis": {
            "backgroundcolor": "#E5ECF6",
            "gridcolor": "white",
            "gridwidth": 2,
            "linecolor": "white",
            "showbackground": true,
            "ticks": "",
            "zerolinecolor": "white"
           },
           "zaxis": {
            "backgroundcolor": "#E5ECF6",
            "gridcolor": "white",
            "gridwidth": 2,
            "linecolor": "white",
            "showbackground": true,
            "ticks": "",
            "zerolinecolor": "white"
           }
          },
          "shapedefaults": {
           "line": {
            "color": "#2a3f5f"
           }
          },
          "ternary": {
           "aaxis": {
            "gridcolor": "white",
            "linecolor": "white",
            "ticks": ""
           },
           "baxis": {
            "gridcolor": "white",
            "linecolor": "white",
            "ticks": ""
           },
           "bgcolor": "#E5ECF6",
           "caxis": {
            "gridcolor": "white",
            "linecolor": "white",
            "ticks": ""
           }
          },
          "title": {
           "x": 0.05
          },
          "xaxis": {
           "automargin": true,
           "gridcolor": "white",
           "linecolor": "white",
           "ticks": "",
           "title": {
            "standoff": 15
           },
           "zerolinecolor": "white",
           "zerolinewidth": 2
          },
          "yaxis": {
           "automargin": true,
           "gridcolor": "white",
           "linecolor": "white",
           "ticks": "",
           "title": {
            "standoff": 15
           },
           "zerolinecolor": "white",
           "zerolinewidth": 2
          }
         }
        }
       }
      }
     },
     "metadata": {},
     "output_type": "display_data"
    }
   ],
   "source": [
    "from sklearn.decomposition import PCA\n",
    "import plotly.express as px\n",
    "pca = PCA(n_components=3)\n",
    "X = pca.fit_transform(model.wv.get_normed_vectors())\n",
    "fig = px.scatter_3d(X[200:300],x=0,y=1,z=2, color=y[200:300])\n",
    "fig.show()"
   ]
  },
  {
   "cell_type": "code",
   "execution_count": null,
   "metadata": {},
   "outputs": [],
   "source": [
    "import pickle\n"
   ]
  }
 ],
 "metadata": {
  "kernelspec": {
   "display_name": "base",
   "language": "python",
   "name": "python3"
  },
  "language_info": {
   "codemirror_mode": {
    "name": "ipython",
    "version": 3
   },
   "file_extension": ".py",
   "mimetype": "text/x-python",
   "name": "python",
   "nbconvert_exporter": "python",
   "pygments_lexer": "ipython3",
   "version": "3.9.13"
  }
 },
 "nbformat": 4,
 "nbformat_minor": 2
}
